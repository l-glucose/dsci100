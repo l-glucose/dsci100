{
 "cells": [
  {
   "cell_type": "markdown",
   "id": "2824b46e-3d23-48b8-8a73-87985e34a54b",
   "metadata": {},
   "source": [
    " ## Introduction ##"
   ]
  },
  {
   "cell_type": "markdown",
   "id": "6dff5043-ccb5-431a-b3b2-4ea503dbd538",
   "metadata": {
    "tags": []
   },
   "source": [
    "Cardiovascular diseases (CVDs) are the leading cause of death globally, taking an estimated 17.9 million lives each year. CVDs are a group of disorders of the heart and blood vessels and include coronary heart disease, cerebrovascular disease, rheumatic heart disease and other conditions. More than four out of five CVD deaths are due to heart attacks and strokes, and one third of these deaths occur prematurely in people under 70 years of age. \n",
    "\n",
    "In this project, utilizing a database that captures key factors such as gender, age, blood glucose, and blood pressure of participants, we aim to develop a classification model to predict the likelihood of a new patient experiencing a heart attack."
   ]
  },
  {
   "cell_type": "markdown",
   "id": "fed0a23f-75af-4195-9196-2e1b1abf25c6",
   "metadata": {},
   "source": [
    "To analyze this, we will be looking at a dataset that includes the following columns:\n",
    "- `age`: age of the patients\n",
    "- `gender`: gender for the patients(0 for female, 1 for male)\n",
    "- `impulse`: heart rate\n",
    "- `pressurehight`: systolic blood pressure, measures the pressure in your arteries when your heart beats\n",
    "- `pressurelow`: diastolic blood pressure, measures the pressure in your arteries when your heart rests between beats\n",
    "- `glucose`: level of blood sugar(A blood sugar level less than 140 mg/dL (7.8 mmol/L) is normal. A reading of more than 200 mg/dL (11.1   mmol/L) after two hours means you have diabetes)\n",
    "- `kcm`: a blood test that looks for a specific enzyme.(CK-MB)\n",
    "- `troponin`:  measures the level of troponin in the blood \n",
    "- `class`: categories of heart attack(negative refers to the absence of a heart attack, while positive refers to the presence of a heart attack)\n"
   ]
  },
  {
   "cell_type": "code",
   "execution_count": null,
   "id": "2f433566-a3c1-411d-bfa2-1c051e760150",
   "metadata": {},
   "outputs": [],
   "source": []
  }
 ],
 "metadata": {
  "kernelspec": {
   "display_name": "R",
   "language": "R",
   "name": "ir"
  },
  "language_info": {
   "codemirror_mode": "r",
   "file_extension": ".r",
   "mimetype": "text/x-r-source",
   "name": "R",
   "pygments_lexer": "r",
   "version": "4.2.2"
  }
 },
 "nbformat": 4,
 "nbformat_minor": 5
}
