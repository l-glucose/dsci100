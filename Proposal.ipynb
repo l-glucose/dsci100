{
 "cells": [
  {
   "cell_type": "markdown",
   "id": "718c59bd-b657-47d9-8a25-6b574102b479",
   "metadata": {},
   "source": [
    "Introduction to our project:\n",
    "\n",
    "Cardiovascular diseases (CVDs) are the leading cause of death globally, taking an estimated 17.9 million lives each year. CVDs are a group of disorders of the heart and blood vessels and include coronary heart disease, cerebrovascular disease, rheumatic heart disease and other conditions. More than four out of five CVD deaths are due to heart attacks and strokes, and one third of these deaths occur prematurely in people under 70 years of age. In this project, utilizing a database that captures key factors such as gender, age, blood glucose, and blood pressure of participants, we aim to develop a classification model to predict the likelihood of a new patient experiencing a heart attack.\n",
    "\n",
    "\n",
    "The dataset we are going to analyze is a classification model based on heart disease, specifically on the presence of a heart attack [1]. It includes many factors that contribute to the risk of having a heart attack. The factors that may contribute to the presence of a heart attack are: Age, gender, heart rate (impulse), systolic BP (pressure hight), diastolic BP (pressure low), blood sugar(glucose), CK-MB (kcm), and Test-Troponin (troponin). By downloading and analyzing the dataset, we hope to find whether our selected predictors can help us accurately predict the risk of a heart attack.  \n",
    "\n",
    "\n",
    "\n",
    "\n",
    "\n",
    "Methods:\n",
    "\n",
    "The variables/columns we will use are:\n",
    "\n",
    "age: The age of the individual \n",
    "kcm: a blood test that looks for a specific enzyme (CK-MB). \n",
    "Class: negative refers to the absence of a heart attack, while positive refers to the presence of a heart attack.\n",
    "\n",
    "Since the variable class, which depicts the presence of a heart attack, is a categorical variable, we choose to conduct our data analysis by classification, specifically by using K nearest neighbors classification algorithm. Not to mention, we can  plot a scatter plot to help determine what factors contribute to the presence of a heart attack. By using key visualizations concepts, such as coloring in different scatter points, and labeling our axis clearly, it can help make the graph concise and easy to interpret. \n",
    "\n",
    "\n",
    "\n",
    "Our project leads to the following future questions:\n",
    "\n",
    "-are there other classification models that can help predict the data accurately, such as using different predictors \n",
    "\n",
    "-What others factors can predict the chances of a heart attack \n",
    "\n",
    "\n",
    "Reference:\n",
    "https://www.kaggle.com/datasets/bharath011/heart-disease-classification-dataset\n",
    "\n",
    "\n",
    "\n",
    "\n"
   ]
  },
  {
   "cell_type": "code",
   "execution_count": null,
   "id": "1636a0c8-6fd4-4c21-ae7c-e5a4c23faac2",
   "metadata": {},
   "outputs": [],
   "source": []
  },
  {
   "cell_type": "code",
   "execution_count": null,
   "id": "cc4734dc-4598-4f0b-8930-a992d0f7575b",
   "metadata": {},
   "outputs": [],
   "source": []
  }
 ],
 "metadata": {
  "kernelspec": {
   "display_name": "R",
   "language": "R",
   "name": "ir"
  },
  "language_info": {
   "codemirror_mode": "r",
   "file_extension": ".r",
   "mimetype": "text/x-r-source",
   "name": "R",
   "pygments_lexer": "r",
   "version": "4.2.2"
  }
 },
 "nbformat": 4,
 "nbformat_minor": 5
}
