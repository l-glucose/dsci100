{
 "cells": [
  {
   "cell_type": "markdown",
   "id": "2824b46e-3d23-48b8-8a73-87985e34a54b",
   "metadata": {},
   "source": [
    " ## Introduction ##"
   ]
  },
  {
   "cell_type": "markdown",
   "id": "6dff5043-ccb5-431a-b3b2-4ea503dbd538",
   "metadata": {
    "tags": []
   },
   "source": [
    "Cardiovascular diseases (CVDs) are the leading cause of death globally, taking an estimated 17.9 million lives each year. CVDs are a group of disorders of the heart and blood vessels and include coronary heart disease, cerebrovascular disease, rheumatic heart disease and other conditions. More than four out of five CVD deaths are due to heart attacks and strokes, and one third of these deaths occur prematurely in people under 70 years of age. \n",
    "\n",
    "In this project, utilizing a database that captures key factors such as gender, age, blood glucose, and blood pressure of participants, we aim to develop a classification model to predict the likelihood of a new patient experiencing a heart attack."
   ]
  },
  {
   "cell_type": "markdown",
   "id": "fed0a23f-75af-4195-9196-2e1b1abf25c6",
   "metadata": {},
   "source": [
    "To analyze this, we will be looking at a dataset that includes the following columns:\n",
    "- `age`: age of the patients\n",
    "- `gender`: gender for the patients(0 for female, 1 for male)\n",
    "- `impulse`: heart rate\n",
    "- `pressure_high`: systolic blood pressure, measures the pressure in your arteries when your heart beats\n",
    "- `pressure_low`: diastolic blood pressure, measures the pressure in your arteries when your heart rests between beats\n",
    "- `glucose`: level of blood sugar(A blood sugar level less than 140 mg/dL (7.8 mmol/L) is normal. A reading of more than 200 mg/dL (11.1   mmol/L) after two hours means you have diabetes)\n",
    "- `kcm`: a blood test that looks for a specific enzyme.(CK-MB)\n",
    "- `troponin`:  measures the level of troponin in the blood \n",
    "- `class`: categories of heart attack(negative refers to the absence of a heart attack, while positive refers to the presence of a heart attack)\n"
   ]
  },
  {
   "cell_type": "markdown",
   "id": "688c6417-b8e0-41a9-ae0b-09d75d7fcabc",
   "metadata": {},
   "source": [
    "## Outcomes and Impact"
   ]
  },
  {
   "cell_type": "markdown",
   "id": "9f7853b0-f870-4829-b1ce-5b81aa5dc942",
   "metadata": {},
   "source": [
    "After analyzing the heart disease dataset, we expect to determine whether a patient has had a heart attack using the K-nearest neighbors classification method. We will base our predictions on known indicators such as troponin levels, high/low blood pressure, and kcm values.\n",
    "\n",
    "Utilizing comprehensive databases for such predictions is a crucial initiative. Given the substantial risks associated with cardiovascular diseases, early detection can greatly improve treatment outcomes and has the potential to save lives.\n",
    "\n",
    "In addition, we provid some future questions that the dataset might to lead:\n",
    "- Are there other classification models that can help predict the data accurately, such as using different predictors?\n",
    "- How are the prevalence and risk factors of heart disease evolving over time, and what might this suggest for the future?"
   ]
  }
 ],
 "metadata": {
  "kernelspec": {
   "display_name": "R",
   "language": "R",
   "name": "ir"
  },
  "language_info": {
   "codemirror_mode": "r",
   "file_extension": ".r",
   "mimetype": "text/x-r-source",
   "name": "R",
   "pygments_lexer": "r",
   "version": "4.2.2"
  }
 },
 "nbformat": 4,
 "nbformat_minor": 5
}
